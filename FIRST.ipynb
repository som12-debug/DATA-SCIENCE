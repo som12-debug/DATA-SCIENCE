{
 "cells": [
  {
   "cell_type": "code",
   "execution_count": 16,
   "id": "bbecc8a1-26d4-40bf-9ca9-cdd5233ebde5",
   "metadata": {},
   "outputs": [
    {
     "name": "stdin",
     "output_type": "stream",
     "text": [
      "What is your first name:  som\n",
      "your last name please:  das\n"
     ]
    },
    {
     "name": "stdout",
     "output_type": "stream",
     "text": [
      "Your Name is : som das\n"
     ]
    }
   ],
   "source": [
    "A=input(\"What is your first name: \")\n",
    "B=input(\"your last name please: \")\n",
    "print(\"Your Name is : \" + A + \" \" + B )\n"
   ]
  },
  {
   "cell_type": "code",
   "execution_count": null,
   "id": "9cabb553-c31e-40b7-b28a-e2dc425105b0",
   "metadata": {},
   "outputs": [],
   "source": []
  }
 ],
 "metadata": {
  "kernelspec": {
   "display_name": "Python 3 (ipykernel)",
   "language": "python",
   "name": "python3"
  },
  "language_info": {
   "codemirror_mode": {
    "name": "ipython",
    "version": 3
   },
   "file_extension": ".py",
   "mimetype": "text/x-python",
   "name": "python",
   "nbconvert_exporter": "python",
   "pygments_lexer": "ipython3",
   "version": "3.12.4"
  }
 },
 "nbformat": 4,
 "nbformat_minor": 5
}
